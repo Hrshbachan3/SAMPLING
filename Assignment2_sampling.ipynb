{
 "cells": [
  {
   "cell_type": "markdown",
   "id": "a3d0ae88-6209-4d05-8a10-121cd387d3a4",
   "metadata": {},
   "source": [
    "# ASSIGNMENT-2"
   ]
  },
  {
   "cell_type": "markdown",
   "id": "2c9b639e-ae40-4246-902f-789e48777d5d",
   "metadata": {},
   "source": [
    "### Name: Hrsh Dhingra\n",
    "### Roll no.: 102103443\n",
    "### Section: CO16"
   ]
  },
  {
   "cell_type": "markdown",
   "id": "9e3b8043-8265-47aa-9b5b-6262decfcc8a",
   "metadata": {},
   "source": [
    "# SAMPLING"
   ]
  },
  {
   "cell_type": "markdown",
   "id": "12c3076b-942f-4738-a245-9949bdc7ff33",
   "metadata": {},
   "source": [
    "## Requirements"
   ]
  },
  {
   "cell_type": "code",
   "execution_count": 1,
   "id": "bebab135-b52a-4ab1-abc7-e130387be83d",
   "metadata": {},
   "outputs": [],
   "source": [
    "import pandas as pd\n",
    "import numpy as np\n",
    "import matplotlib.pyplot as plt\n",
    "from sklearn.model_selection import train_test_split\n",
    "from sklearn.ensemble import RandomForestClassifier\n",
    "from sklearn.linear_model import LogisticRegression\n",
    "from sklearn.naive_bayes import GaussianNB\n",
    "from sklearn.tree import DecisionTreeClassifier\n",
    "from sklearn.neighbors import KNeighborsClassifier\n",
    "from sklearn.metrics import accuracy_score\n",
    "from imblearn.over_sampling import RandomOverSampler\n",
    "from collections import Counter\n",
    "from sklearn.preprocessing import normalize"
   ]
  },
  {
   "cell_type": "markdown",
   "id": "c4f83a8b-5e41-4f2e-8093-c3d7f5684047",
   "metadata": {},
   "source": [
    "## Execution"
   ]
  },
  {
   "cell_type": "markdown",
   "id": "3d08b6f6-218f-4092-9d4c-aa60e26faa90",
   "metadata": {},
   "source": [
    "### Loading the dataset from URL"
   ]
  },
  {
   "cell_type": "code",
   "execution_count": 2,
   "id": "e80abc6f-1dd2-42c3-8762-be54af6a76c4",
   "metadata": {},
   "outputs": [],
   "source": [
    "url = \"https://raw.githubusercontent.com/AnjulaMehto/Sampling_Assignment/main/Creditcard_data.csv\"\n",
    "df = pd.read_csv(url)"
   ]
  },
  {
   "cell_type": "markdown",
   "id": "944690c1-d794-4e2e-a191-3953280d107b",
   "metadata": {},
   "source": [
    "### Normalizing the 'Amount\" column"
   ]
  },
  {
   "cell_type": "code",
   "execution_count": 3,
   "id": "c3597c3b-987d-4451-b88a-43ab072ea45c",
   "metadata": {},
   "outputs": [],
   "source": [
    "Amount = normalize([df['Amount']])[0]\n",
    "df['Amount'] = Amount\n",
    "df = df.iloc[:, 1:]"
   ]
  },
  {
   "cell_type": "code",
   "execution_count": 4,
   "id": "0c588977-928f-4d4a-b6eb-1e49f5590f28",
   "metadata": {},
   "outputs": [
    {
     "name": "stdout",
     "output_type": "stream",
     "text": [
      "0    763\n",
      "1      9\n",
      "Name: Class, dtype: int64\n"
     ]
    }
   ],
   "source": [
    "print(df.Class.value_counts())"
   ]
  },
  {
   "cell_type": "markdown",
   "id": "b4d91940-97be-479a-b9c2-ec8c71c74ec2",
   "metadata": {},
   "source": [
    "### Applying the sampler to balance the class distribution"
   ]
  },
  {
   "cell_type": "code",
   "execution_count": 5,
   "id": "f4ab3513-aa35-4816-8a52-9640c12b374e",
   "metadata": {},
   "outputs": [],
   "source": [
    "sampler = RandomOverSampler(sampling_strategy=0.95)\n",
    "x_resample, y_resample = sampler.fit_resample(df.drop('Class', axis=1), df['Class'])"
   ]
  },
  {
   "cell_type": "code",
   "execution_count": 6,
   "id": "48c1420b-e9b0-4aa7-b1e0-e784b8f11806",
   "metadata": {},
   "outputs": [
    {
     "name": "stdout",
     "output_type": "stream",
     "text": [
      "0    763\n",
      "1    724\n",
      "Name: Class, dtype: int64\n"
     ]
    }
   ],
   "source": [
    "print(y_resample.value_counts())"
   ]
  },
  {
   "cell_type": "markdown",
   "id": "1a9b9951-eb6c-4dc1-88f5-c5a7486e01ae",
   "metadata": {},
   "source": [
    "### Creating the sampled dataframe"
   ]
  },
  {
   "cell_type": "code",
   "execution_count": 7,
   "id": "69a641ef-6209-4e82-8b62-c0b57fd9ac1d",
   "metadata": {},
   "outputs": [],
   "source": [
    "resample = pd.concat([x_resample, y_resample], axis=1)"
   ]
  },
  {
   "cell_type": "markdown",
   "id": "9bcb77f3-bfb1-4cf0-b24e-ef13a2ef997a",
   "metadata": {},
   "source": [
    "### Simple random sampling"
   ]
  },
  {
   "cell_type": "code",
   "execution_count": 8,
   "id": "1083afdd-0869-41fe-a964-ea5b808206ff",
   "metadata": {},
   "outputs": [],
   "source": [
    "n = int((1.96*1.96 * 0.5*0.5)/(0.05**2))\n",
    "SimpleSampling = resample.sample(n=n, random_state=42)"
   ]
  },
  {
   "cell_type": "markdown",
   "id": "827b01f8-b1e4-4387-bb39-3ec7ab74d144",
   "metadata": {},
   "source": [
    "### Splitting the data"
   ]
  },
  {
   "cell_type": "code",
   "execution_count": 9,
   "id": "592127c8-e018-4ca8-acce-6cea49f56baf",
   "metadata": {},
   "outputs": [],
   "source": [
    "X_train, X_test, y_train, y_test = train_test_split(SimpleSampling.drop('Class', axis=1),SimpleSampling['Class'],test_size=0.3)"
   ]
  },
  {
   "cell_type": "markdown",
   "id": "b1e8c8e1-5b1c-4cfe-8bba-b9c0eeda0495",
   "metadata": {},
   "source": [
    "### Initialising & training ML models"
   ]
  },
  {
   "cell_type": "code",
   "execution_count": 10,
   "id": "fe891fa2-bd62-41f6-9791-d344821ebc75",
   "metadata": {},
   "outputs": [],
   "source": [
    "rf_model = RandomForestClassifier(random_state=42)\n",
    "lr_model = LogisticRegression()\n",
    "nb_model = GaussianNB()\n",
    "dt_model = DecisionTreeClassifier(random_state=42)\n",
    "knn_model = KNeighborsClassifier()"
   ]
  },
  {
   "cell_type": "code",
   "execution_count": 11,
   "id": "1ed08b28-92d3-415a-be10-5034c6fbb85f",
   "metadata": {},
   "outputs": [],
   "source": [
    "models = [rf_model, lr_model, nb_model, dt_model, knn_model]\n",
    "model_names = ['Random Forest', 'Logistic Regression', 'Naive Bayes', 'Decision Trees', 'KNN']"
   ]
  },
  {
   "cell_type": "code",
   "execution_count": 12,
   "id": "90344992-ba65-4d14-ac8c-f2e220eee51c",
   "metadata": {},
   "outputs": [
    {
     "name": "stdout",
     "output_type": "stream",
     "text": [
      "Random Forest Accuracy: 0.9913793103448276\n",
      "Logistic Regression Accuracy: 0.896551724137931\n",
      "Naive Bayes Accuracy: 0.7155172413793104\n",
      "Decision Trees Accuracy: 0.9655172413793104\n",
      "KNN Accuracy: 0.9396551724137931\n"
     ]
    }
   ],
   "source": [
    "for model, name in zip(models, model_names):\n",
    "    model.fit(X_train, y_train)\n",
    "    y_pred = model.predict(X_test)\n",
    "    accuracy = accuracy_score(y_test, y_pred)\n",
    "    print(f\"{name} Accuracy: {accuracy}\")"
   ]
  }
 ],
 "metadata": {
  "kernelspec": {
   "display_name": "Python 3 (ipykernel)",
   "language": "python",
   "name": "python3"
  },
  "language_info": {
   "codemirror_mode": {
    "name": "ipython",
    "version": 3
   },
   "file_extension": ".py",
   "mimetype": "text/x-python",
   "name": "python",
   "nbconvert_exporter": "python",
   "pygments_lexer": "ipython3",
   "version": "3.8.15"
  }
 },
 "nbformat": 4,
 "nbformat_minor": 5
}
